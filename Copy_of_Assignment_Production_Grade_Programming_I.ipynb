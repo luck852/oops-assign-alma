{
  "nbformat": 4,
  "nbformat_minor": 0,
  "metadata": {
    "kernelspec": {
      "display_name": "Python 3",
      "language": "python",
      "name": "python3"
    },
    "language_info": {
      "codemirror_mode": {
        "name": "ipython",
        "version": 3
      },
      "file_extension": ".py",
      "mimetype": "text/x-python",
      "name": "python",
      "nbconvert_exporter": "python",
      "pygments_lexer": "ipython3",
      "version": "3.7.4"
    },
    "colab": {
      "provenance": []
    }
  },
  "cells": [
    {
      "cell_type": "markdown",
      "metadata": {
        "id": "8WbUJEVzs8Bx"
      },
      "source": [
        "## <u>While doing this assignment only use those concepts which have been taught till now</u>"
      ]
    },
    {
      "cell_type": "markdown",
      "metadata": {
        "id": "77zLnpaNvNSp"
      },
      "source": [
        "# <u> Problem 1</u>\n",
        "\n",
        "### Create a class <code>Cylinder</code> which takes two attributes <code>radius</code> and <code>height</code>.\n",
        "\n",
        "### Create the following methods in this class:\n",
        "\n",
        "* ### method <code>volume()</code> which calculates the volume of the cyinder which is defined as $V  = \\pi r^2 h$\n",
        "\n",
        "* ### method <code>surface_area()</code> which calculates the area of the cyinder which is defined as $S  = 2\\pi r h$. Assume this is an open cylinder\n"
      ]
    },
    {
      "cell_type": "code",
      "metadata": {
        "id": "-cWkCZ5OzX0G"
      },
      "source": [
        "# Write your code below. Take pi as 3.14\n",
        "class Cylinder:\n",
        "\n",
        "   def __init__(self,radius,height):\n",
        "       self.radius=radius\n",
        "       self.height=height\n",
        "#define method:\n",
        "   def volume(self):\n",
        "     return 3.14*self.radius**2*self.height\n",
        "#define method:\n",
        "   def surface_area(self):\n",
        "     return 2*3.14*self.radius*self.height\n",
        "\n",
        "\n",
        "\n",
        "\n",
        "\n",
        "\n",
        "\n",
        "\n",
        "\n",
        "\n",
        "\n",
        "\n"
      ],
      "execution_count": 9,
      "outputs": []
    },
    {
      "cell_type": "code",
      "metadata": {
        "id": "tgS3mhN-18b_",
        "colab": {
          "base_uri": "https://localhost:8080/"
        },
        "outputId": "2356cb0c-3625-4608-a8ed-c7ce2ea1950f"
      },
      "source": [
        "# Check for sample inputs\n",
        "cylinder = Cylinder(2,4)\n",
        "\n",
        "print(cylinder.volume())\n",
        "\n",
        "print(cylinder.surface_area())\n",
        "\n",
        "\n",
        "\n",
        "\n"
      ],
      "execution_count": 41,
      "outputs": [
        {
          "output_type": "stream",
          "name": "stdout",
          "text": [
            "50.24\n",
            "50.24\n"
          ]
        }
      ]
    },
    {
      "cell_type": "markdown",
      "metadata": {
        "id": "KjPWYK0Rs8By"
      },
      "source": [
        "## <u>Problem 2</u>\n",
        "\n",
        "### You started your own money wallet where your customers can create their accounts and they can either deposit or withdraw money from this wallet.\n",
        "\n",
        "### Write a Python class <code>BankAccount</code> which takes the balance as an attribute. You can initialize the balance with 0 because any new account will have 0 rupees in their wallet. Next write two methods for your class :\n",
        "\n",
        "* #### <code>withdraw()</code> method which takes the amount to be withdrawn as an argument and returns the balance after the withdrawal\n",
        "\n",
        "* #### <code>deposit()</code> method which takes the amount to be deposited as an argument and returns the balance after the deposit.\n",
        "\n",
        "### Keep in mind that if the balance to be withdrawn exceeds the current balance, it should display a message that \"Not enough balance in your account\"\n"
      ]
    },
    {
      "cell_type": "code",
      "metadata": {
        "id": "RxVZTrenzfHC"
      },
      "source": [
        "# Write your BankAccount class below\n",
        "\n",
        "class BankAccount:\n",
        "\n",
        "  def __init__(self,balance=0):\n",
        "    self.balance=balance\n",
        "\n",
        "#define the methods:\n",
        "  def withdraw(self,amount):\n",
        "   if amount<=self.balance:\n",
        "    self.balance=self.balance-amount\n",
        "    return self.balance\n",
        "   else:\n",
        "       print(\"Not enough balance in your account\")\n",
        "       return self.balance\n",
        "\n",
        "  def deposit(self,amount):\n",
        "     self.balance=self.balance+amount\n",
        "     return self.balance\n",
        "\n",
        "\n",
        "\n",
        "\n",
        "\n",
        "\n",
        "\n",
        "\n",
        "\n",
        "\n",
        "\n",
        "\n"
      ],
      "execution_count": 19,
      "outputs": []
    },
    {
      "cell_type": "code",
      "metadata": {
        "id": "N1Yhpkiws8B3"
      },
      "source": [
        "# Create two instances of this class for two customers\n",
        "customer1_account=BankAccount()\n",
        "customer2_account=BankAccount()\n"
      ],
      "execution_count": 39,
      "outputs": []
    },
    {
      "cell_type": "markdown",
      "metadata": {
        "id": "mSTxPcO3fWeX"
      },
      "source": [
        "### Next add some amount and withdraw some another amount for both the customers."
      ]
    },
    {
      "cell_type": "code",
      "metadata": {
        "id": "KpMdlB5Fs8B8",
        "colab": {
          "base_uri": "https://localhost:8080/"
        },
        "outputId": "3cd52833-0418-4184-e6b2-0c57b3811996"
      },
      "source": [
        "# Deposit some amount and withdrawing some amount from the two accounts and check if your method works fine\n",
        "# Customer 1 interactions\n",
        "print(\"Customer 1 Initial Balance:\", customer1_account.balance)\n",
        "customer1_account.deposit(1500)\n",
        "print(\"Customer 1 Balance after deposit:\", customer1_account.balance)\n",
        "customer1_account.withdraw(700)\n",
        "print(\"Customer 1 Balance after withdrawal:\", customer1_account.balance)\n",
        "\n",
        "# Customer 2 interactions\n",
        "print(\"Customer 2 Initial Balance:\", customer2_account.balance)\n",
        "customer2_account.deposit(2500)\n",
        "print(\"Customer 2 Balance after deposit:\", customer2_account.balance)\n",
        "customer2_account.withdraw(1200)\n",
        "print(\"Customer 2 Balance after withdrawal:\", customer2_account.balance)\n",
        "\n",
        "\n",
        "\n",
        "\n",
        "\n",
        "\n",
        "\n"
      ],
      "execution_count": 40,
      "outputs": [
        {
          "output_type": "stream",
          "name": "stdout",
          "text": [
            "Customer 1 Initial Balance: 0\n",
            "Customer 1 Balance after deposit: 1500\n",
            "Customer 1 Balance after withdrawal: 800\n",
            "Customer 2 Initial Balance: 0\n",
            "Customer 2 Balance after deposit: 2500\n",
            "Customer 2 Balance after withdrawal: 1300\n"
          ]
        }
      ]
    },
    {
      "cell_type": "markdown",
      "metadata": {
        "id": "5qd8g8UUs8CM"
      },
      "source": [
        "## <u>Problem 3 </u>\n",
        "\n",
        "### Create a class <code>Time </code> which takes two inputs hours and minutes to instantiate.\n",
        "*  #### Construct a method <code>DisplayTime()</code> which displays the time in AM/PM formats. For example if the input is 14 hours and 45 mins, then this method will print \"The time is 2:45 PM\". If the inputted hours exceeds 23 then print the message \"The input hours should be less than 24\" and if the inputted minutes exceeds 59 then print the message \"The input minutes should be less than 60.\" Also if the input is 12 hours 30 minutes, then the displayed time would be 12:30 PM\n",
        "* #### Construct a method <code>DisplayRatio()</code> which should display the ratio of minutes to hours. For example, (8 hours and  16 mins) should display 2. Use <code>try</code>, <code>except</code> block to account for ZeroDivisionError."
      ]
    },
    {
      "cell_type": "code",
      "metadata": {
        "id": "FBJy9Sq_s8CN"
      },
      "source": [
        "class Time:\n",
        "\n",
        "  def __init__(self,hours,mins):\n",
        "    self.hours=hours\n",
        "    self.mins=mins\n",
        "\n",
        "    #define methods\n",
        "  def displaytime(self):\n",
        "    if (self.hours>23) or (self.mins>59):\n",
        "      print(\"The input hours should be less than 24 and the input minutes should be less than 60\")\n",
        "    else:\n",
        "       if (self.hours<12) and (self.mins<60):\n",
        "         time_to_display= str(self.hours)+\":\" +str(self.mins) +\"AM\"\n",
        "         print(f\"the time is {time_to_display}\")\n",
        "       elif (self.hours==12) and (self.mins<60):\n",
        "         time_to_display=str(self.hours)+ \":\" +str(self.mins) + \"PM\"\n",
        "         print(f\"the time is {time_to_display}\")\n",
        "       else:\n",
        "          time_to_display = str(self.hours - 12) + \":\" + str(self.mins) + \" PM\"\n",
        "          print(f\"The time is {time_to_display}\")\n",
        "\n",
        "\n",
        "  def DisplayRatio(self):\n",
        "      try:\n",
        "        print(self.mins/self.hours)\n",
        "      except:\n",
        "        print(\"the'hours' are should not be zero\")\n",
        "\n",
        "\n",
        "\n",
        "\n",
        "\n",
        "\n",
        "\n",
        "\n",
        "\n",
        "\n",
        "\n",
        "\n",
        "\n",
        "\n",
        "\n",
        "\n",
        "\n",
        "\n",
        "\n"
      ],
      "execution_count": 55,
      "outputs": []
    },
    {
      "cell_type": "code",
      "metadata": {
        "id": "zywXa51d6Eev",
        "colab": {
          "base_uri": "https://localhost:8080/"
        },
        "outputId": "64af0c73-976e-477d-8c28-554ffea35e65"
      },
      "source": [
        "# Check for few sample inputs of hours and mins\n",
        "hour_min_list = [(23,45), (34,50), (12,34), (14,67),(19,20), (2,15), (0, 10)]\n",
        "\n",
        "# Using a for loop display the corresponding 12 hour time format for the above hour_min_list\n",
        "for hour,min in hour_min_list:\n",
        "    A=Time(hour,min)\n",
        "    A.displaytime()\n",
        "\n",
        "\n",
        "\n",
        "\n",
        "\n",
        "# Also display the corresponding ratios for the above list\n",
        "for hour,min in hour_min_list:\n",
        "   A=Time(hour,min)\n",
        "   A.DisplayRatio()\n",
        "\n"
      ],
      "execution_count": 56,
      "outputs": [
        {
          "output_type": "stream",
          "name": "stdout",
          "text": [
            "The time is 11:45 PM\n",
            "The input hours should be less than 24 and the input minutes should be less than 60\n",
            "the time is 12:34PM\n",
            "The input hours should be less than 24 and the input minutes should be less than 60\n",
            "The time is 7:20 PM\n",
            "the time is 2:15AM\n",
            "the time is 0:10AM\n",
            "1.9565217391304348\n",
            "1.4705882352941178\n",
            "2.8333333333333335\n",
            "4.785714285714286\n",
            "1.0526315789473684\n",
            "7.5\n",
            "the'hours' are should not be zero\n"
          ]
        }
      ]
    },
    {
      "cell_type": "code",
      "metadata": {
        "id": "mgcu1_SAjAqF"
      },
      "source": [],
      "execution_count": null,
      "outputs": []
    }
  ]
}